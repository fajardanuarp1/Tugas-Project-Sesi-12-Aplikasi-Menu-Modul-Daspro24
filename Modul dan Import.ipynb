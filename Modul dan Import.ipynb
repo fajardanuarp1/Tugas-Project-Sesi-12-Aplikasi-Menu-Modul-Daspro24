{
 "cells": [
  {
   "cell_type": "code",
   "execution_count": null,
   "id": "ad4001d1-5a0a-4b7c-94fd-f0ccb0e89937",
   "metadata": {},
   "outputs": [
    {
     "name": "stdout",
     "output_type": "stream",
     "text": [
      "\n",
      "=== MENU UTAMA ===\n",
      "1. Aritmatika\n",
      "2. Konversi\n",
      "3. Ubah Bilangan\n",
      "4. Keluar\n"
     ]
    },
    {
     "name": "stdin",
     "output_type": "stream",
     "text": [
      "Pilih menu (1-4):  2\n"
     ]
    },
    {
     "name": "stdout",
     "output_type": "stream",
     "text": [
      "\n",
      "=== Menu Konversi ===\n",
      "1. CM ke M\n",
      "2. M ke CM\n"
     ]
    },
    {
     "name": "stdin",
     "output_type": "stream",
     "text": [
      "Pilih konversi (1-2):  3\n",
      "Masukkan nilai:  24\n"
     ]
    },
    {
     "name": "stdout",
     "output_type": "stream",
     "text": [
      "Input salah. Masukkan angka desimal.\n",
      "\n",
      "=== MENU UTAMA ===\n",
      "1. Aritmatika\n",
      "2. Konversi\n",
      "3. Ubah Bilangan\n",
      "4. Keluar\n"
     ]
    },
    {
     "name": "stdin",
     "output_type": "stream",
     "text": [
      "Pilih menu (1-4):  2\n"
     ]
    },
    {
     "name": "stdout",
     "output_type": "stream",
     "text": [
      "\n",
      "=== Menu Konversi ===\n",
      "1. CM ke M\n",
      "2. M ke CM\n"
     ]
    },
    {
     "name": "stdin",
     "output_type": "stream",
     "text": [
      "Pilih konversi (1-2):  3\n",
      "Masukkan nilai:  12\n"
     ]
    },
    {
     "name": "stdout",
     "output_type": "stream",
     "text": [
      "Input salah. Masukkan angka desimal.\n",
      "\n",
      "=== MENU UTAMA ===\n",
      "1. Aritmatika\n",
      "2. Konversi\n",
      "3. Ubah Bilangan\n",
      "4. Keluar\n"
     ]
    },
    {
     "name": "stdin",
     "output_type": "stream",
     "text": [
      "Pilih menu (1-4):  12\n"
     ]
    },
    {
     "name": "stdout",
     "output_type": "stream",
     "text": [
      "Pilihan tidak dikenal, coba lagi.\n",
      "\n",
      "=== MENU UTAMA ===\n",
      "1. Aritmatika\n",
      "2. Konversi\n",
      "3. Ubah Bilangan\n",
      "4. Keluar\n"
     ]
    },
    {
     "name": "stdin",
     "output_type": "stream",
     "text": [
      "Pilih menu (1-4):  2\n"
     ]
    },
    {
     "name": "stdout",
     "output_type": "stream",
     "text": [
      "\n",
      "=== Menu Konversi ===\n",
      "1. CM ke M\n",
      "2. M ke CM\n"
     ]
    },
    {
     "name": "stdin",
     "output_type": "stream",
     "text": [
      "Pilih konversi (1-2):  3\n",
      "Masukkan nilai:  12\n"
     ]
    },
    {
     "name": "stdout",
     "output_type": "stream",
     "text": [
      "Input salah. Masukkan angka desimal.\n",
      "\n",
      "=== MENU UTAMA ===\n",
      "1. Aritmatika\n",
      "2. Konversi\n",
      "3. Ubah Bilangan\n",
      "4. Keluar\n"
     ]
    },
    {
     "name": "stdin",
     "output_type": "stream",
     "text": [
      "Pilih menu (1-4):  1\n"
     ]
    },
    {
     "name": "stdout",
     "output_type": "stream",
     "text": [
      "\n",
      "=== Menu Aritmatika ===\n",
      "1. Penjumlahan\n",
      "2. Perpangkatan\n",
      "3. Perkalian\n"
     ]
    },
    {
     "name": "stdin",
     "output_type": "stream",
     "text": [
      "Pilih operasi (1-4):  1\n",
      "Masukkan bilangan pertama:  23\n",
      "Masukkan bilangan kedua:  23\n"
     ]
    },
    {
     "name": "stdout",
     "output_type": "stream",
     "text": [
      "Hasil penjumlahan: 46.0\n",
      "\n",
      "=== MENU UTAMA ===\n",
      "1. Aritmatika\n",
      "2. Konversi\n",
      "3. Ubah Bilangan\n",
      "4. Keluar\n"
     ]
    }
   ],
   "source": [
    "def menu_aritmatika():\n",
    "    print(\"\\n=== Menu Aritmatika ===\")\n",
    "    print(\"1. Penjumlahan\")\n",
    "    print(\"2. Perpangkatan\")\n",
    "    print(\"3. Perkalian\")\n",
    "    \n",
    "    pilihan = input(\"Pilih operasi (1-4): \")\n",
    "\n",
    "    try:\n",
    "        angka1 = float(input(\"Masukkan bilangan pertama: \"))\n",
    "        angka2 = float(input(\"Masukkan bilangan kedua: \"))\n",
    "\n",
    "        if pilihan == \"1\":\n",
    "            hasil = angka1 + angka2\n",
    "            print(\"Hasil penjumlahan:\", hasil)\n",
    "        elif pilihan == \"2\":\n",
    "            hasil = angka1 ** angka2\n",
    "            print(\"Hasil perpangkatan:\", hasil)\n",
    "        elif piliha == \"3\":\n",
    "            hasil = angka1 * angka2\n",
    "            print(\"Hasil perkalian:\", hasil)\n",
    "        else:\n",
    "            print(\"Pilihan tidak valid.\")\n",
    "    except:\n",
    "        print(\"Input tidak valid, coba lagi.\")\n",
    "\n",
    "def menu_konversi():\n",
    "    print(\"\\n=== Menu Konversi ===\")\n",
    "    print(\"1. CM ke M\")\n",
    "    print(\"2. M ke CM\")\n",
    "    pilih = input(\"Pilih konversi (1-2): \")\n",
    "\n",
    "    try:\n",
    "        angka = float(input(\"Masukkan nilai: \"))\n",
    "\n",
    "        if pilihan == \"1\":\n",
    "            hasil = angka / 100\n",
    "            print(f\"{angka} cm = {hasil} m\")\n",
    "        elif pilihan == \"2\":\n",
    "            hasil = angka * 100\n",
    "            print(f\"{angka} m = {hasil} cm\")\n",
    "        else:\n",
    "            print(\"Pilihan tidak valid.\")\n",
    "    except:\n",
    "        print(\"Input salah. Masukkan angka desimal.\")\n",
    "\n",
    "def menu_ubah_bilangan():\n",
    "    print(\"\\n=== Menu Ubah Bilangan ===\")\n",
    "    print(\"1. Desimal ke Biner\")\n",
    "    print(\"2. Desimal ke Oktal\")\n",
    "    print(\"3. Desimal ke Hexadesimal\")\n",
    "    pilih = input(\"Pilih jenis konversi (1-3): \")\n",
    "\n",
    "    try:\n",
    "        desimal = int(input(\"Masukkan bilangan desimal: \"))\n",
    "\n",
    "        if pilihan == \"1\":\n",
    "            print(\"Biner:\", bin(desimal)[2:])\n",
    "        elif pilihan == \"2\":\n",
    "            print(\"Oktal:\", oct(desimal)[2:])\n",
    "        elif pilihan == \"3\":\n",
    "            print(\"Hexadesimal:\", hex(desimal)[2:])\n",
    "        else:\n",
    "            print(\"Pilihan tidak ada.\")\n",
    "    except:\n",
    "        print(\"Input harus bilangan bulat.\")\n",
    "\n",
    "def main():\n",
    "    while True:\n",
    "        print(\"\\n=== MENU UTAMA ===\")\n",
    "        print(\"1. Aritmatika\")\n",
    "        print(\"2. Konversi\")\n",
    "        print(\"3. Ubah Bilangan\")\n",
    "        print(\"4. Keluar\")\n",
    "\n",
    "        pilihan = input(\"Pilih menu (1-4): \")\n",
    "\n",
    "        if pilihan == \"1\":\n",
    "            menu_aritmatika()\n",
    "        elif pilihan == \"2\":\n",
    "            menu_konversi()\n",
    "        elif pilihan == \"3\":\n",
    "            menu_ubah_bilangan()\n",
    "        elif pilihan == \"4\":\n",
    "            print(\"Terima kasih. Program selesai.\")\n",
    "            break\n",
    "        else:\n",
    "            print(\"Pilihan tidak dikenal, coba lagi.\")\n",
    "\n",
    "\n",
    "main()\n"
   ]
  }
 ],
 "metadata": {
  "kernelspec": {
   "display_name": "Python [conda env:base] *",
   "language": "python",
   "name": "conda-base-py"
  },
  "language_info": {
   "codemirror_mode": {
    "name": "ipython",
    "version": 3
   },
   "file_extension": ".py",
   "mimetype": "text/x-python",
   "name": "python",
   "nbconvert_exporter": "python",
   "pygments_lexer": "ipython3",
   "version": "3.12.7"
  }
 },
 "nbformat": 4,
 "nbformat_minor": 5
}
